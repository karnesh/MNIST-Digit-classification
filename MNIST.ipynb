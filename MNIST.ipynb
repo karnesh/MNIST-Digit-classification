{
 "cells": [
  {
   "cell_type": "markdown",
   "metadata": {},
   "source": [
    "# MNIST digit classification\n"
   ]
  },
  {
   "cell_type": "code",
   "execution_count": 2,
   "metadata": {},
   "outputs": [],
   "source": [
    "# Import libraries\n",
    "import numpy as np\n",
    "import pandas as pd\n",
    "import matplotlib.pyplot as plt"
   ]
  },
  {
   "cell_type": "code",
   "execution_count": 5,
   "metadata": {},
   "outputs": [
    {
     "data": {
      "text/plain": [
       "'\\nImport data from MNIST database from tensorflow\\nimport tensorflow as tf\\n(X_train, y_train), X_test, y_test) = tf.keras.datasets.mnist.load_data()\\n'"
      ]
     },
     "execution_count": 5,
     "metadata": {},
     "output_type": "execute_result"
    }
   ],
   "source": [
    "'''\n",
    "Import data from MNIST database from tensorflow\n",
    "import tensorflow as tf\n",
    "(X_train, y_train), X_test, y_test) = tf.keras.datasets.mnist.load_data()\n",
    "'''"
   ]
  },
  {
   "cell_type": "code",
   "execution_count": 6,
   "metadata": {},
   "outputs": [
    {
     "data": {
      "text/plain": [
       "'/Users/karneshjain/Desktop/kaggle/MNIST'"
      ]
     },
     "execution_count": 6,
     "metadata": {},
     "output_type": "execute_result"
    }
   ],
   "source": [
    "import os\n",
    "os.chdir('~/Desktop/kaggle/MNIST')\n",
    "os.getcwd()"
   ]
  },
  {
   "cell_type": "code",
   "execution_count": 7,
   "metadata": {},
   "outputs": [],
   "source": [
    "# Importing data\n",
    "train_dataset = pd.read_csv('train.csv')\n",
    "test_dataset = pd.read_csv('test.csv')\n",
    "X = train_dataset.iloc[:,1:].values.astype('float32')\n",
    "X_test = test_dataset.values.astype('float32')\n",
    "y = train_dataset.iloc[:,0].values.astype('int32')"
   ]
  },
  {
   "cell_type": "code",
   "execution_count": 8,
   "metadata": {},
   "outputs": [
    {
     "data": {
      "image/png": "[encoded data removed]",
      "text/plain": [
       "<matplotlib.figure.Figure at 0x11da84ac8>"
      ]
     },
     "metadata": {
      "needs_background": "light"
     },
     "output_type": "display_data"
    }
   ],
   "source": [
    "# Visualizing data\n",
    "image_index = 20  # You may select anything up to 42,000\n",
    "for i in range(image_index):\n",
    "    plt.subplot(4,5,i+1)\n",
    "    plt.imshow(X[i].reshape((28,28)), cmap='Greys',)\n",
    "plt.show()"
   ]
  },
  {
   "cell_type": "code",
   "execution_count": 9,
   "metadata": {},
   "outputs": [],
   "source": [
    "# Rescaling and reshaping data \n",
    "X /= 255.0\n",
    "X_test /= 255.0\n",
    "X = X.reshape(X.shape[0], 28, 28,1)\n",
    "X_test = X_test.reshape(X_test.shape[0], 28, 28,1)"
   ]
  },
  {
   "cell_type": "code",
   "execution_count": 10,
   "metadata": {},
   "outputs": [
    {
     "name": "stderr",
     "output_type": "stream",
     "text": [
      "Using TensorFlow backend.\n"
     ]
    }
   ],
   "source": [
    "# Convert the labels to binary using one hot encoding\n",
    "from keras.utils import to_categorical\n",
    "y = to_categorical(y, num_classes = 10)"
   ]
  },
  {
   "cell_type": "code",
   "execution_count": 11,
   "metadata": {},
   "outputs": [],
   "source": [
    "# Train and test split\n",
    "from sklearn.model_selection import train_test_split\n",
    "X_train, X_val, y_train, y_val = train_test_split(X, y, test_size = 0.1)"
   ]
  },
  {
   "cell_type": "code",
   "execution_count": 12,
   "metadata": {},
   "outputs": [],
   "source": [
    "# Importing Keras libraries\n",
    "from keras.models import Sequential\n",
    "from keras.layers import Conv2D\n",
    "from keras.layers import MaxPooling2D\n",
    "from keras.layers import Flatten\n",
    "from keras.layers import Dense\n",
    "from keras.layers import Dropout\n",
    "from keras.layers.normalization import BatchNormalization"
   ]
  },
  {
   "cell_type": "code",
   "execution_count": 13,
   "metadata": {},
   "outputs": [],
   "source": [
    "# Initialising the CNN\n",
    "model = Sequential()\n",
    "\n",
    "# Step 1 - Convolution\n",
    "model.add(Conv2D(32, (3, 3), input_shape = (28, 28, 1), activation = 'relu'))\n",
    "\n",
    "# Step 2 - Pooling\n",
    "model.add(MaxPooling2D(pool_size = (2, 2)))\n",
    "\n",
    "# Adding a second convolutional layer\n",
    "model.add(Conv2D(32, (3, 3), activation = 'relu'))\n",
    "model.add(MaxPooling2D(pool_size = (2, 2)))\n",
    "model.add(Dropout(0.3))\n",
    "\n",
    "# Step 3 - Flattening\n",
    "model.add(Flatten())\n",
    "\n",
    "# Step 4 - Full connection\n",
    "model.add(Dense(units = 128, activation = 'relu'))\n",
    "model.add(BatchNormalization())\n",
    "model.add(Dropout(0.2))\n",
    "model.add(Dense(units = 10, activation = 'softmax'))\n",
    "\n",
    "# Compiling the CNN\n",
    "model.compile(optimizer = 'adam', loss = 'categorical_crossentropy', metrics = ['accuracy'])"
   ]
  },
  {
   "cell_type": "code",
   "execution_count": 14,
   "metadata": {},
   "outputs": [],
   "source": [
    "# Image preprocessing\n",
    "from keras.preprocessing.image import ImageDataGenerator\n",
    "\n",
    "datagen = ImageDataGenerator(rotation_range = 15,\n",
    "                                   zoom_range = 0.1,\n",
    "                                   width_shift_range = 0.1,\n",
    "                                   height_shift_range = 0.1)"
   ]
  },
  {
   "cell_type": "code",
   "execution_count": 15,
   "metadata": {},
   "outputs": [
    {
     "name": "stdout",
     "output_type": "stream",
     "text": [
      "Epoch 1/25\n",
      "590/590 [==============================] - 30s 51ms/step - loss: 0.4740 - acc: 0.8493 - val_loss: 0.0780 - val_acc: 0.9738\n",
      "Epoch 2/25\n",
      "590/590 [==============================] - 30s 50ms/step - loss: 0.1843 - acc: 0.9421 - val_loss: 0.0597 - val_acc: 0.9802\n",
      "Epoch 3/25\n",
      "590/590 [==============================] - 30s 51ms/step - loss: 0.1467 - acc: 0.9546 - val_loss: 0.0415 - val_acc: 0.9876\n",
      "Epoch 4/25\n",
      "590/590 [==============================] - 30s 52ms/step - loss: 0.1258 - acc: 0.9609 - val_loss: 0.0354 - val_acc: 0.9881\n",
      "Epoch 5/25\n",
      "590/590 [==============================] - 30s 51ms/step - loss: 0.1190 - acc: 0.9630 - val_loss: 0.0376 - val_acc: 0.9876\n",
      "Epoch 6/25\n",
      "590/590 [==============================] - 31s 52ms/step - loss: 0.1071 - acc: 0.9667 - val_loss: 0.0302 - val_acc: 0.9900\n",
      "Epoch 7/25\n",
      "590/590 [==============================] - 30s 51ms/step - loss: 0.1027 - acc: 0.9679 - val_loss: 0.0347 - val_acc: 0.9890\n",
      "Epoch 8/25\n",
      "590/590 [==============================] - 31s 52ms/step - loss: 0.0947 - acc: 0.9706 - val_loss: 0.0466 - val_acc: 0.9843\n",
      "Epoch 9/25\n",
      "590/590 [==============================] - 31s 52ms/step - loss: 0.0935 - acc: 0.9705 - val_loss: 0.0438 - val_acc: 0.9850\n",
      "Epoch 10/25\n",
      "590/590 [==============================] - 30s 51ms/step - loss: 0.0849 - acc: 0.9741 - val_loss: 0.0272 - val_acc: 0.9900\n",
      "Epoch 11/25\n",
      "590/590 [==============================] - 30s 51ms/step - loss: 0.0839 - acc: 0.9748 - val_loss: 0.0303 - val_acc: 0.9910\n",
      "Epoch 12/25\n",
      "590/590 [==============================] - 319s 541ms/step - loss: 0.0816 - acc: 0.9750 - val_loss: 0.0279 - val_acc: 0.9905\n",
      "Epoch 13/25\n",
      "590/590 [==============================] - 33s 56ms/step - loss: 0.0768 - acc: 0.9766 - val_loss: 0.0310 - val_acc: 0.9905\n",
      "Epoch 14/25\n",
      "590/590 [==============================] - 30s 51ms/step - loss: 0.0761 - acc: 0.9766 - val_loss: 0.0271 - val_acc: 0.9905\n",
      "Epoch 15/25\n",
      "590/590 [==============================] - 30s 52ms/step - loss: 0.0716 - acc: 0.9775 - val_loss: 0.0288 - val_acc: 0.9914\n",
      "Epoch 16/25\n",
      "590/590 [==============================] - 30s 51ms/step - loss: 0.0727 - acc: 0.9777 - val_loss: 0.0320 - val_acc: 0.9888\n",
      "Epoch 17/25\n",
      "590/590 [==============================] - 30s 51ms/step - loss: 0.0695 - acc: 0.9786 - val_loss: 0.0275 - val_acc: 0.9907\n",
      "Epoch 18/25\n",
      "590/590 [==============================] - 30s 51ms/step - loss: 0.0679 - acc: 0.9787 - val_loss: 0.0296 - val_acc: 0.9902\n",
      "Epoch 19/25\n",
      "590/590 [==============================] - 30s 52ms/step - loss: 0.0703 - acc: 0.9779 - val_loss: 0.0246 - val_acc: 0.9921\n",
      "Epoch 20/25\n",
      "590/590 [==============================] - 31s 52ms/step - loss: 0.0676 - acc: 0.9789 - val_loss: 0.0291 - val_acc: 0.9912\n",
      "Epoch 21/25\n",
      "590/590 [==============================] - 30s 51ms/step - loss: 0.0666 - acc: 0.9789 - val_loss: 0.0314 - val_acc: 0.9895\n",
      "Epoch 22/25\n",
      "590/590 [==============================] - 30s 51ms/step - loss: 0.0654 - acc: 0.9794 - val_loss: 0.0238 - val_acc: 0.9914\n",
      "Epoch 23/25\n",
      "590/590 [==============================] - 31s 53ms/step - loss: 0.0657 - acc: 0.9794 - val_loss: 0.0269 - val_acc: 0.9905\n",
      "Epoch 24/25\n",
      "590/590 [==============================] - 30s 51ms/step - loss: 0.0619 - acc: 0.9808 - val_loss: 0.0270 - val_acc: 0.9917\n",
      "Epoch 25/25\n",
      "590/590 [==============================] - 326s 553ms/step - loss: 0.0639 - acc: 0.9805 - val_loss: 0.0349 - val_acc: 0.9886\n"
     ]
    },
    {
     "data": {
      "text/plain": [
       "<keras.callbacks.History at 0x1a65025748>"
      ]
     },
     "execution_count": 15,
     "metadata": {},
     "output_type": "execute_result"
    }
   ],
   "source": [
    "# Fitting the CNN to the images\n",
    "datagen.fit(X_train)\n",
    "\n",
    "model.fit_generator(datagen.flow(X_train, y_train, batch_size=64),\n",
    "                    validation_data = (X_val, y_val),\n",
    "                    steps_per_epoch=X_train.shape[0] // 64, epochs=25)"
   ]
  },
  {
   "cell_type": "code",
   "execution_count": 16,
   "metadata": {},
   "outputs": [
    {
     "name": "stdout",
     "output_type": "stream",
     "text": [
      "Loss: 0.034921, Accuracy: 0.988571\n"
     ]
    }
   ],
   "source": [
    "loss, accuracy = model.evaluate(X_val, y_val, verbose=0)\n",
    "print(\"Loss: {0:.6f}, Accuracy: {1:.6f}\".format(loss, accuracy))\n",
    "\n",
    "predicted = model.predict_classes(X_test)"
   ]
  }
 ],
 "metadata": {
  "kernelspec": {
   "display_name": "Python 3",
   "language": "python",
   "name": "python3"
  },
  "language_info": {
   "codemirror_mode": {
    "name": "ipython",
    "version": 3
   },
   "file_extension": ".py",
   "mimetype": "text/x-python",
   "name": "python",
   "nbconvert_exporter": "python",
   "pygments_lexer": "ipython3",
   "version": "3.6.6"
  }
 },
 "nbformat": 4,
 "nbformat_minor": 2
}
